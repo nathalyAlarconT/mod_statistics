{
  "nbformat": 4,
  "nbformat_minor": 0,
  "metadata": {
    "kernelspec": {
      "display_name": "Python 3",
      "language": "python",
      "name": "python3"
    },
    "language_info": {
      "codemirror_mode": {
        "name": "ipython",
        "version": 3
      },
      "file_extension": ".py",
      "mimetype": "text/x-python",
      "name": "python",
      "nbconvert_exporter": "python",
      "pygments_lexer": "ipython3",
      "version": "3.7.1"
    },
    "colab": {
      "name": "ESTADISTICA_para_DataScience_1",
      "provenance": [],
      "collapsed_sections": [],
      "include_colab_link": true
    }
  },
  "cells": [
    {
      "cell_type": "markdown",
      "metadata": {
        "id": "view-in-github",
        "colab_type": "text"
      },
      "source": [
        "<a href=\"https://colab.research.google.com/github/nathalyAlarconT/mod_statistics/blob/master/ESTADISTICA_para_DataScience_1.ipynb\" target=\"_parent\"><img src=\"https://colab.research.google.com/assets/colab-badge.svg\" alt=\"Open In Colab\"/></a>"
      ]
    },
    {
      "cell_type": "markdown",
      "metadata": {
        "id": "1HW-1fekuMMG",
        "colab_type": "text"
      },
      "source": [
        "## Estadística para Ciencia de Datos"
      ]
    },
    {
      "cell_type": "code",
      "metadata": {
        "id": "rqsketqotAk4",
        "colab_type": "code",
        "colab": {}
      },
      "source": [
        "import matplotlib as mpl\n",
        "mpl.style.use(['ggplot'])"
      ],
      "execution_count": null,
      "outputs": []
    },
    {
      "cell_type": "markdown",
      "metadata": {
        "id": "7z92cfOPufD4",
        "colab_type": "text"
      },
      "source": [
        "# Distribuciones"
      ]
    },
    {
      "cell_type": "markdown",
      "metadata": {
        "id": "qbsARflEuMMH",
        "colab_type": "text"
      },
      "source": [
        "## Distribución Gausiana"
      ]
    },
    {
      "cell_type": "code",
      "metadata": {
        "id": "BaLtWZCouMMI",
        "colab_type": "code",
        "colab": {}
      },
      "source": [
        "# Generación de una distribución gausiana ideal\n",
        "from numpy import arange\n",
        "from matplotlib import pyplot\n",
        "from scipy.stats import norm\n",
        "\n",
        "# x-axis para la gráfica: Valores entre -3 y 3 espaciados por 0.001\n",
        "x_axis = arange(-3, 3, 0.001) \n",
        "print(\"x_axis: \", x_axis)\n",
        "\n",
        "# y-axis con los datos de la gausiana\n",
        "# Generamos una distribución gausiana a partir del eje x generado\n",
        "# pdf = probability density function. Parámetros media y desviación estándard\n",
        "# https://docs.scipy.org/doc/scipy/reference/generated/scipy.stats.norm.html\n",
        "\n",
        "y_axis = norm.pdf(x_axis, 0, 1)\n",
        "print(\"y_axis: \", y_axis)\n",
        "\n",
        "# Generamos el gráfico\n",
        "pyplot.plot(x_axis, y_axis)\n",
        "pyplot.show()"
      ],
      "execution_count": null,
      "outputs": []
    },
    {
      "cell_type": "markdown",
      "metadata": {
        "id": "T_1y4_MeoZkr",
        "colab_type": "text"
      },
      "source": [
        "## Distribución Uniforme"
      ]
    },
    {
      "cell_type": "code",
      "metadata": {
        "id": "19qUKbsHoZST",
        "colab_type": "code",
        "colab": {}
      },
      "source": [
        "# Generación de una distribución uniforme\n",
        "import numpy as np\n",
        "from scipy.stats import uniform\n",
        "import matplotlib.pyplot as plt\n",
        "\n",
        "\n",
        "uniforme = uniform()\n",
        "x = np.linspace(0.01,0.99, 100)\n",
        "print(x)\n",
        "\n",
        "\n",
        "fp = uniforme.pdf(x) # Función de Probabilidad\n",
        "\n",
        "print(fp)\n",
        "fig, ax = plt.subplots()\n",
        "ax.plot(x, fp, '--')\n",
        "ax.vlines(x, 0, fp, colors='b', lw=5, alpha=0.5)\n",
        "plt.title('Distribución Uniforme')\n",
        "plt.ylabel('Probabilidad')\n",
        "plt.xlabel('Valores')\n",
        "plt.show()"
      ],
      "execution_count": null,
      "outputs": []
    },
    {
      "cell_type": "code",
      "metadata": {
        "id": "WKCNxLySrM8b",
        "colab_type": "code",
        "colab": {}
      },
      "source": [
        "num_aleatorios = uniforme.rvs(1000)\n",
        "# print(num_aleatorios)\n",
        "\n",
        "plt.hist(num_aleatorios, bins=20)\n",
        "plt.ylabel('frequencia')\n",
        "plt.xlabel('valores')\n",
        "plt.title('Histograma Uniforme')\n",
        "plt.show()"
      ],
      "execution_count": null,
      "outputs": []
    },
    {
      "cell_type": "markdown",
      "metadata": {
        "id": "MVXCnT4f00r5",
        "colab_type": "text"
      },
      "source": [
        "## Distribución Exponencial \n"
      ]
    },
    {
      "cell_type": "code",
      "metadata": {
        "id": "AUil4G1-06MS",
        "colab_type": "code",
        "colab": {}
      },
      "source": [
        "from scipy.stats import expon\n",
        "\n",
        "x = np.linspace(1,10, 100)\n",
        "fp = expon.pdf(x)\n",
        "\n",
        "plt.plot(x, fp)\n",
        "plt.title('Distribución Exponencial')\n",
        "plt.ylabel('probabilidad')\n",
        "plt.xlabel('valores')\n",
        "plt.show()"
      ],
      "execution_count": null,
      "outputs": []
    },
    {
      "cell_type": "markdown",
      "metadata": {
        "id": "dpAxoEJhuMMM",
        "colab_type": "text"
      },
      "source": [
        "## Test Dataset"
      ]
    },
    {
      "cell_type": "markdown",
      "metadata": {
        "id": "aMoSP35hASLE",
        "colab_type": "text"
      },
      "source": [
        "Vamos a crear una muestra de datos"
      ]
    },
    {
      "cell_type": "markdown",
      "metadata": {
        "id": "gPzlgwuCBOBX",
        "colab_type": "text"
      },
      "source": [
        "Distribución gausiana estándar"
      ]
    },
    {
      "cell_type": "code",
      "metadata": {
        "id": "PW25vcA5uMMN",
        "colab_type": "code",
        "colab": {}
      },
      "source": [
        "# Generar una muesta de numeros randómicos gausianos\n",
        "from numpy.random import seed\n",
        "from numpy.random import randn\n",
        "from matplotlib import pyplot\n",
        "# Inicializaremos los números randómicos con una semilla\n",
        "# seed(20)\n",
        "\n",
        "# generamos numeros aleatorios de la distribucion normal\n",
        "data_points = 1000\n",
        "data = randn(data_points)\n",
        "# La media de la distribucion normal, es 0\n",
        "\n",
        "#visualizamos la información con la ayuda de un histograma\n",
        "pyplot.hist(data, color=\"darkblue\")\n",
        "pyplot.show()\n",
        "\n",
        "# ---------------------------------------------------------\n",
        "# Ejercicio:\n",
        "# Después de correr esta celda\n",
        "# Genera nuevamente la distribución seteando una semilla"
      ],
      "execution_count": null,
      "outputs": []
    },
    {
      "cell_type": "markdown",
      "metadata": {
        "id": "ha8cY5T0BSwv",
        "colab_type": "text"
      },
      "source": [
        "Vamos a configurar la media y la desviación estándar"
      ]
    },
    {
      "cell_type": "code",
      "metadata": {
        "id": "wn9m4_ukANK6",
        "colab_type": "code",
        "colab": {}
      },
      "source": [
        "# Generar una muesta de numeros randómicos gausianos\n",
        "from numpy.random import seed\n",
        "from numpy.random import randn\n",
        "from matplotlib import pyplot\n",
        "# Inicializaremos los números randómicos con una semilla\n",
        "# seed(20)\n",
        "# generamos numeros aleatorios de la distribucion normal\n",
        "data_points = 1000\n",
        "\n",
        "# podemos configurar la distribución normal configurando la media y \n",
        "# la desviación estándar de la distribución\n",
        "# data = desviacion_estandar * randn(1000) + media\n",
        "desviacion_estandar = 5\n",
        "media = 50\n",
        "data = desviacion_estandar*randn(data_points)+media\n",
        "\n",
        "#visualizamos la información con la ayuda de un histograma\n",
        "pyplot.hist(data)\n",
        "pyplot.show()"
      ],
      "execution_count": null,
      "outputs": []
    },
    {
      "cell_type": "markdown",
      "metadata": {
        "id": "QiZ1N3fLBjLH",
        "colab_type": "text"
      },
      "source": [
        "Muchas veces la distribución no mostrará una campana perfecta. \n",
        "Generemos un dataset con más elementos"
      ]
    },
    {
      "cell_type": "code",
      "metadata": {
        "id": "xvW-SS2YuMMS",
        "colab_type": "code",
        "colab": {}
      },
      "source": [
        "from numpy.random import seed\n",
        "from numpy.random import randn\n",
        "from matplotlib import pyplot\n",
        "seed(20)\n",
        "\n",
        "# Vamos a generar una muestra con una cantidad de datos más grandes\n",
        "data_points = 10000\n",
        "data = desviacion_estandar*randn(data_points)+media\n",
        "\n",
        "# data = 5*randn(10000)+50\n",
        "#histogram of generated data\n",
        "pyplot.hist(data)  # pyplot.hist(data, bins=100)\n",
        "pyplot.show()\n",
        "\n",
        "\n",
        "# ---------------------------------------------------------\n",
        "# Ejercicio\n",
        "# configura el parámetro `bins´ en la función pyplot.hist()\n",
        "# El código que debes usar se encuentra comentado en la linea 12"
      ],
      "execution_count": null,
      "outputs": []
    },
    {
      "cell_type": "markdown",
      "metadata": {
        "id": "unHyZjCFuku4",
        "colab_type": "text"
      },
      "source": [
        "# Medidas de tendencia Central"
      ]
    },
    {
      "cell_type": "markdown",
      "metadata": {
        "id": "HrZezeU1uMMV",
        "colab_type": "text"
      },
      "source": [
        "## Calculando la media"
      ]
    },
    {
      "cell_type": "code",
      "metadata": {
        "id": "-XmdGxgzuMMV",
        "colab_type": "code",
        "colab": {}
      },
      "source": [
        "# Calculando la media de una muestra\n",
        "from numpy.random import seed\n",
        "from numpy.random import randn\n",
        "from numpy import mean\n",
        "# Seteamos la semilla\n",
        "seed(1)\n",
        "# generamos una muestra de datos\n",
        "# Recuerda la formula: desviacion_estandar*randn(data_points)+media\n",
        "data = 5*randn(10000)+50\n",
        "# Calculando la media\n",
        "result = mean(data)\n",
        "print(\"Media: %.3f\" % result)\n",
        "\n",
        "# Nota que no es exactamente la media que hemos definido en la distribución de\n",
        "# los datos, pero se aproxima."
      ],
      "execution_count": null,
      "outputs": []
    },
    {
      "cell_type": "markdown",
      "metadata": {
        "id": "eHoh4aMnuMMY",
        "colab_type": "text"
      },
      "source": [
        "## Calculando la mediana"
      ]
    },
    {
      "cell_type": "code",
      "metadata": {
        "id": "5ZxckJYcuMMY",
        "colab_type": "code",
        "colab": {}
      },
      "source": [
        "# Calculando la mediana de una muestra\n",
        "from numpy.random import seed\n",
        "from numpy.random import randn\n",
        "from numpy import median\n",
        "seed(1)\n",
        "# Generate univariate observations\n",
        "data = 5*randn(10000)+50\n",
        "# calculando la mediana\n",
        "result = median(data)\n",
        "print(\"Median: %.3f\" % result)\n",
        "# No es tan diferente de la media, porque estamos en una una distribución gausiana"
      ],
      "execution_count": null,
      "outputs": []
    },
    {
      "cell_type": "markdown",
      "metadata": {
        "id": "FOb1s1u5uMMb",
        "colab_type": "text"
      },
      "source": [
        "## Calculando la varianza"
      ]
    },
    {
      "cell_type": "code",
      "metadata": {
        "id": "V80PYhLTuMMb",
        "colab_type": "code",
        "colab": {}
      },
      "source": [
        "# Calculando la varianza de una muestra\n",
        "from numpy import arange\n",
        "from matplotlib import pyplot\n",
        "from scipy.stats import norm\n",
        "# x-axis from the plot\n",
        "x_axis = arange(-3, 3, 0.001)\n",
        "# Plot Baja Varianza . Indica que los datos están cercanos a la media\n",
        "pyplot.plot(x_axis, norm.pdf(x_axis, 0, 0.5))\n",
        "# Plot Alta Varianza. Indica que los datos están separados de la media\n",
        "pyplot.plot(x_axis, norm.pdf(x_axis, 0, 1))\n",
        "pyplot.show()\n",
        "\n"
      ],
      "execution_count": null,
      "outputs": []
    },
    {
      "cell_type": "markdown",
      "metadata": {
        "id": "Bm90UOZIuMMi",
        "colab_type": "text"
      },
      "source": [
        "## Calculando la varianza"
      ]
    },
    {
      "cell_type": "code",
      "metadata": {
        "id": "jcKCbmPhuMMi",
        "colab_type": "code",
        "colab": {}
      },
      "source": [
        "# Calculando la varianza de una muestra\n",
        "from numpy.random import seed\n",
        "from numpy.random import randn\n",
        "from numpy import var\n",
        "#Seteamos la semilla generadora de los valores randómicos\n",
        "seed(1)\n",
        "# Generate el dataset\n",
        "data = 5*randn(10000)+50\n",
        "pyplot.hist(data, bins=100) \n",
        "# Calculate the Variance\n",
        "result = var(data)\n",
        "print(\"Variance: %.3f\" % result)\n",
        "\n"
      ],
      "execution_count": null,
      "outputs": []
    },
    {
      "cell_type": "markdown",
      "metadata": {
        "id": "iAeRXF_DuMMl",
        "colab_type": "text"
      },
      "source": [
        "## Calculando la Desviación Estándar"
      ]
    },
    {
      "cell_type": "code",
      "metadata": {
        "id": "gFAbiuMDuMMm",
        "colab_type": "code",
        "colab": {}
      },
      "source": [
        "# Calculando la desviacion estandar de una muestra\n",
        "from numpy. random import seed\n",
        "from numpy.random import randn\n",
        "from numpy import std\n",
        "seed(1)\n",
        "# Generate la distribución de los datos\n",
        "# data = desviacion_standar*randn(data_points)+media\n",
        "data = 5*randn(10000)+50\n",
        "# Calculate Standard Deviation\n",
        "result = std(data)\n",
        "print(\"Standard Deviation: %.3f\" % result)\n",
        "\n",
        "# Nota que este resultado se aproxima más a la desviación estándar que \n",
        "# hemos seteado para generar la muestra\n",
        "\n",
        "\n",
        "\n",
        "# ---------------------------------------------------------\n",
        "# Ejercicio:\n",
        "# Obtén la desviación estándar de 500 datos\n"
      ],
      "execution_count": null,
      "outputs": []
    },
    {
      "cell_type": "markdown",
      "metadata": {
        "id": "EQKk1JOcvuQz",
        "colab_type": "text"
      },
      "source": [
        "# Ejercicios\n",
        "\n"
      ]
    },
    {
      "cell_type": "markdown",
      "metadata": {
        "id": "_9JzHEuqyvOh",
        "colab_type": "text"
      },
      "source": [
        "Para el siguiente dataframe , calcula las medias de tendencia central explicadas previamente: \n",
        "- media\n",
        "- mediana\n",
        "- moda\n",
        "- desviacion estandar\n",
        "- varianza\n",
        "\n",
        "Y grafica las distribuciones de las 3 columnas"
      ]
    },
    {
      "cell_type": "code",
      "metadata": {
        "id": "3oZlAZ7Ev1jA",
        "colab_type": "code",
        "colab": {}
      },
      "source": [
        "import pandas as pd\n",
        "import random\n",
        "data = {'col1' : randn(100), 'col2': uniform.rvs(100),'col3':np.random.randint(30, 50, 100)}\n",
        "\n",
        "df = pd.DataFrame(data= data, columns=[\"col1\", \"col2\", \"col3\"])\n",
        "df.head()"
      ],
      "execution_count": null,
      "outputs": []
    }
  ]
}