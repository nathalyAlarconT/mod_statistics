{
  "nbformat": 4,
  "nbformat_minor": 0,
  "metadata": {
    "kernelspec": {
      "display_name": "Python 3",
      "language": "python",
      "name": "python3"
    },
    "language_info": {
      "codemirror_mode": {
        "name": "ipython",
        "version": 3
      },
      "file_extension": ".py",
      "mimetype": "text/x-python",
      "name": "python",
      "nbconvert_exporter": "python",
      "pygments_lexer": "ipython3",
      "version": "3.7.1"
    },
    "colab": {
      "name": "ESTADISTICA_para_DataScience_2",
      "provenance": [],
      "collapsed_sections": [],
      "include_colab_link": true
    }
  },
  "cells": [
    {
      "cell_type": "markdown",
      "metadata": {
        "id": "view-in-github",
        "colab_type": "text"
      },
      "source": [
        "<a href=\"https://colab.research.google.com/github/nathalyAlarconT/mod_statistics/blob/master/ESTADISTICA_para_DataScience_2.ipynb\" target=\"_parent\"><img src=\"https://colab.research.google.com/assets/colab-badge.svg\" alt=\"Open In Colab\"/></a>"
      ]
    },
    {
      "cell_type": "markdown",
      "metadata": {
        "id": "1HW-1fekuMMG",
        "colab_type": "text"
      },
      "source": [
        "## Estadística para Ciencia de Datos"
      ]
    },
    {
      "cell_type": "code",
      "metadata": {
        "id": "rqsketqotAk4",
        "colab_type": "code",
        "colab": {}
      },
      "source": [
        "import matplotlib as mpl\n",
        "mpl.style.use(['ggplot'])"
      ],
      "execution_count": null,
      "outputs": []
    },
    {
      "cell_type": "markdown",
      "metadata": {
        "id": "pLCTH0QBuMMp",
        "colab_type": "text"
      },
      "source": [
        "# Simple Data Visualization"
      ]
    },
    {
      "cell_type": "markdown",
      "metadata": {
        "id": "REro7gN5uMMp",
        "colab_type": "text"
      },
      "source": [
        "### Visualización de datos"
      ]
    },
    {
      "cell_type": "code",
      "metadata": {
        "id": "D63t7EjPuMMq",
        "colab_type": "code",
        "colab": {}
      },
      "source": [
        "# Matplotlib es una de las librerias que nos permite generar visualizaciones\n",
        "# import matplotlib context\n",
        "from matplotlib import pyplot \n",
        "# create a plot\n",
        "#pyplot.plot(...)\n",
        "# display the plot\n",
        "pyplot.show()\n"
      ],
      "execution_count": null,
      "outputs": []
    },
    {
      "cell_type": "markdown",
      "metadata": {
        "id": "jvfiYacguMMs",
        "colab_type": "text"
      },
      "source": [
        "## Line Plot"
      ]
    },
    {
      "cell_type": "code",
      "metadata": {
        "id": "7ONv5PtfuMMt",
        "colab_type": "code",
        "colab": {}
      },
      "source": [
        "# Ejemplo de un line plot\n",
        "from numpy import sin\n",
        "from matplotlib import pyplot\n",
        "# vamos a generar una secuencia de 100 valores\n",
        "x = [x*0.1 for x in range (100)]\n",
        "print(\"x: \", x)\n",
        "# Calculamos la función de seno para los valores de x\n",
        "y = sin(x)\n",
        "# Creamos el line plot\n",
        "pyplot.plot(x,y)\n",
        "# Mostramos el gráfico\n",
        "pyplot.show()"
      ],
      "execution_count": null,
      "outputs": []
    },
    {
      "cell_type": "markdown",
      "metadata": {
        "id": "ypgcKxJhuMMw",
        "colab_type": "text"
      },
      "source": [
        "## Bar Chart"
      ]
    },
    {
      "cell_type": "code",
      "metadata": {
        "id": "d5OdTAZbuMMw",
        "colab_type": "code",
        "colab": {}
      },
      "source": [
        "# Ejemplo de un bar chart\n",
        "from random import seed\n",
        "from random import randint\n",
        "from matplotlib import pyplot\n",
        "# Seteamos la semilla\n",
        "# seed()\n",
        "# Nombres para las categorías\n",
        "x=[\"Python\", \"Scala\", \"R\"]\n",
        "# Cantidades para cada categoría \n",
        "y=[randint(0, 100), randint(0, 100), randint(0, 100)]\n",
        "# Creamos el Bar Chart\n",
        "pyplot.bar(x,y)\n",
        "# Desplegamos el barchart\n",
        "pyplot.show()\n",
        "\n",
        "# ---------------------------------------------------------\n",
        "# Ejercicio:\n",
        "# Genera nuevamente el gráfico seteando una semilla"
      ],
      "execution_count": null,
      "outputs": []
    },
    {
      "cell_type": "markdown",
      "metadata": {
        "id": "cGZug4KguMM2",
        "colab_type": "text"
      },
      "source": [
        "## Histogram Plot"
      ]
    },
    {
      "cell_type": "code",
      "metadata": {
        "id": "eVAbxS2zuMM2",
        "colab_type": "code",
        "colab": {}
      },
      "source": [
        "# Ejemplo de un histograma\n",
        "from numpy.random import seed\n",
        "from numpy.random import randn\n",
        "from matplotlib import pyplot\n",
        "# Seteamos una semilla para los valores randómicos\n",
        "seed(1)\n",
        "# Generarmos valores aleatorios de una distribución gausiana\n",
        "x = randn(1000)\n",
        "# print(\"x: \", x)\n",
        "# Creamos el histograma\n",
        "pyplot.hist(x)\n",
        "# Desplegamos el gráfico\n",
        "pyplot.show()"
      ],
      "execution_count": null,
      "outputs": []
    },
    {
      "cell_type": "code",
      "metadata": {
        "id": "HER6Wt-RuMM5",
        "colab_type": "code",
        "colab": {}
      },
      "source": [
        "# Example with specified number of bins\n",
        "from numpy.random import seed\n",
        "from numpy.random import randn\n",
        "from matplotlib import pyplot\n",
        "# Seed the random number generator\n",
        "seed(1)\n",
        "# Random numbers drawn from a Gaussian Distribution\n",
        "x = randn(1000)\n",
        "# Create Histogram plot with specified number of Bins\n",
        "pyplot.hist(x, bins=100)\n",
        "# Show Histogram Plot\n",
        "pyplot.show()"
      ],
      "execution_count": null,
      "outputs": []
    },
    {
      "cell_type": "code",
      "metadata": {
        "id": "3jKOPnhkX0z-",
        "colab_type": "code",
        "colab": {}
      },
      "source": [
        "# Si quieres verificar los datos\n",
        "# x.sort()\n",
        "# print(x)"
      ],
      "execution_count": null,
      "outputs": []
    },
    {
      "cell_type": "code",
      "metadata": {
        "id": "Rx1--K3-XOnO",
        "colab_type": "code",
        "colab": {}
      },
      "source": [
        "# Veamos el histograma de una forma más interactiva, \n",
        "# Haciendo uso de plotly express\n",
        "import plotly.express as px\n",
        "px.histogram(x = x)\n",
        "\n",
        "# Ejercicio\n",
        "# Investiga como configurar el número de bins en plotly express.\n",
        "# Y genera un nuevo histograma."
      ],
      "execution_count": null,
      "outputs": []
    },
    {
      "cell_type": "markdown",
      "metadata": {
        "id": "f4Ox5atFuMM7",
        "colab_type": "text"
      },
      "source": [
        "## Box Plot"
      ]
    },
    {
      "cell_type": "code",
      "metadata": {
        "id": "tFNYEoO7uMM8",
        "colab_type": "code",
        "colab": {}
      },
      "source": [
        "# Ejemplo de un boxplot\n",
        "from numpy.random import seed\n",
        "from numpy.random import randn\n",
        "from matplotlib import pyplot\n",
        "# Seteamos la semilla\n",
        "seed(1)\n",
        "# Numeros randómicos a partir de una distribución gausiana\n",
        "x = [randn(1000), 5*randn(1000), 10*randn(1000)]\n",
        "# Creamos el boxplot\n",
        "pyplot.boxplot(x)\n",
        "# Show Box and Whisker Plot\n",
        "pyplot.show()"
      ],
      "execution_count": null,
      "outputs": []
    },
    {
      "cell_type": "markdown",
      "metadata": {
        "id": "KeC7IH6GuMNC",
        "colab_type": "text"
      },
      "source": [
        "## Scatter Plot"
      ]
    },
    {
      "cell_type": "code",
      "metadata": {
        "id": "SBhAcTB3uMNC",
        "colab_type": "code",
        "colab": {}
      },
      "source": [
        "# Ejemplo de generación de un Scatter Plot\n",
        "from numpy.random import seed\n",
        "from numpy.random import randn\n",
        "from matplotlib import pyplot\n",
        "seed(1)\n",
        "# Primera Variable\n",
        "x=20*randn(1000)+100\n",
        "# Segunda Variable\n",
        "y=x+(10*randn(1000)+50)\n",
        "# Creamos el scatter plot Scatter Plot\n",
        "pyplot.scatter(x, y)\n",
        "# Show the Scatter Plot\n",
        "pyplot.show()"
      ],
      "execution_count": null,
      "outputs": []
    }
  ]
}